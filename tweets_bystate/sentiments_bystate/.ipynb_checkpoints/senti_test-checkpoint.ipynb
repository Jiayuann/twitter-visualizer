{
 "cells": [
  {
   "cell_type": "code",
   "execution_count": 3,
   "metadata": {
    "collapsed": false
   },
   "outputs": [
    {
     "name": "stdout",
     "output_type": "stream",
     "text": [
      "Getting Sentiment\n",
      "11.074\n",
      "10.174\n",
      "113.001\n"
     ]
    }
   ],
   "source": [
    "from nltk.sentiment.vader import SentimentIntensityAnalyzer\n",
    "from nltk import tokenize\n",
    "import pandas as pd\n",
    "from pandas import Series,DataFrame\n",
    "import regex as re\n",
    "import datetime\n",
    "import csv\n",
    "\n",
    "def get_sentiemnt(name_of_file):\n",
    "    pos,neu,neg = 0,0,0\n",
    "    data_file = pd.read_csv(name_of_file)\n",
    "    # Read first column of the dataframe and convert it to a list of string.\n",
    "    sentences = data_file['Text'].tolist()\n",
    "    # Create a list to store sentiment analysis result.\n",
    "    sentiment_result = []\n",
    "    # Sentiment Intensity Analyzer from 'nltk'.\n",
    "    sid = SentimentIntensityAnalyzer()\n",
    "    for sentence in sentences:\n",
    "        # Sentence is the raw text from tweets.\n",
    "        # A filter, remove all non-ASCII charaters.\n",
    "        sentence = re.sub(r'[^\\x00-\\x7f]',r'', sentence) \n",
    "        # Get sentiment\n",
    "        ss = sid.polarity_scores(sentence) \n",
    "        # ss is a dict type like {'neg':0.5,...}\n",
    "        neu = neu + ss['neu']\n",
    "        pos = pos + ss['pos']\n",
    "        neg = neg + ss['neg']\n",
    "        sentiment_result.append(ss)\n",
    "    # print(sentiment_result)\n",
    "    print neg\n",
    "    print pos\n",
    "    print (neu + pos + neg)\n",
    "    data_file['sentiment'] = sentiment_result\n",
    "    data_file['pos_pct'] = pos/(neu + pos + neg)\n",
    "    data_file['neg_pct'] = neg/(neu + pos + neg)\n",
    "    # list = data_file['sentiment'].tolist()\n",
    "    data_file.to_csv(name_of_file)\n",
    "\n",
    "\n",
    "print 'Getting Sentiment'\n",
    "file_name = \"MASSACHUSETTS2017-03-01.csv\"\n",
    "get_sentiemnt(file_name)"
   ]
  },
  {
   "cell_type": "code",
   "execution_count": null,
   "metadata": {
    "collapsed": true
   },
   "outputs": [],
   "source": []
  }
 ],
 "metadata": {
  "kernelspec": {
   "display_name": "Python 2",
   "language": "python",
   "name": "python2"
  },
  "language_info": {
   "codemirror_mode": {
    "name": "ipython",
    "version": 2
   },
   "file_extension": ".py",
   "mimetype": "text/x-python",
   "name": "python",
   "nbconvert_exporter": "python",
   "pygments_lexer": "ipython2",
   "version": "2.7.13"
  }
 },
 "nbformat": 4,
 "nbformat_minor": 2
}
