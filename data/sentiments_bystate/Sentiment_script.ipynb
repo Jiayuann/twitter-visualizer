{
 "cells": [
  {
   "cell_type": "code",
   "execution_count": null,
   "metadata": {
    "collapsed": false
   },
   "outputs": [],
   "source": [
    "from nltk.sentiment.vader import SentimentIntensityAnalyzer\n",
    "from nltk import tokenize\n",
    "import json\n",
    "import csv\n",
    "import pandas as pd\n",
    "from pandas import Series,DataFrame\n",
    "import regex as re"
   ]
  },
  {
   "cell_type": "code",
   "execution_count": null,
   "metadata": {
    "collapsed": false
   },
   "outputs": [],
   "source": [
    "data_file = pd.read_csv('MASSACHUSETTS2017-03-01.csv')\n",
    "data_file"
   ]
  },
  {
   "cell_type": "code",
   "execution_count": null,
   "metadata": {
    "collapsed": false
   },
   "outputs": [],
   "source": [
    "import json\n",
    "sentiment = data_file['sentiment'].tolist()\n",
    "sentiment"
   ]
  },
  {
   "cell_type": "code",
   "execution_count": null,
   "metadata": {
    "collapsed": true
   },
   "outputs": [],
   "source": []
  },
  {
   "cell_type": "code",
   "execution_count": null,
   "metadata": {
    "collapsed": false
   },
   "outputs": [],
   "source": [
    "sentence = '\\xc2\\xa0\\xe2\\x80\\xa6 Lynch,you read Breitbart? #bospoli #mapolipic.twitter.com/Z2F12oyvMs'\n",
    "print sentence\n",
    "sentence = re.sub(r'[^\\x00-\\x7f]',r'', sentence) \n",
    "print sentence"
   ]
  },
  {
   "cell_type": "code",
   "execution_count": null,
   "metadata": {
    "collapsed": false
   },
   "outputs": [],
   "source": [
    "sentences = data_file['Text'].tolist()\n",
    "sentiment_result = []\n",
    "sid = SentimentIntensityAnalyzer()\n",
    "for sentence in sentences:\n",
    "    print('RawText')\n",
    "    print(sentence)\n",
    "    # A filter, remove all non-ASCII charaters\n",
    "    re.sub(r'[^\\x00-\\x7f]',r'', sentence) \n",
    "    print('FilteredText')\n",
    "    print (sentence)\n",
    "    ss = sid.polarity_scores(sentence) \n",
    "    # ss is a dict type like {'neg':0.5}\n",
    "    print ss\n",
    "    sentiment_result.append(ss)\n",
    "print(sentiment_result)"
   ]
  },
  {
   "cell_type": "code",
   "execution_count": null,
   "metadata": {
    "collapsed": false
   },
   "outputs": [],
   "source": [
    "data_file['sentiment'] = Series(sentiment_result)\n",
    "data_file"
   ]
  },
  {
   "cell_type": "code",
   "execution_count": null,
   "metadata": {
    "collapsed": false
   },
   "outputs": [],
   "source": [
    "list = data_file['sentiment'].tolist()\n",
    "list"
   ]
  },
  {
   "cell_type": "code",
   "execution_count": null,
   "metadata": {
    "collapsed": true
   },
   "outputs": [],
   "source": []
  }
 ],
 "metadata": {
  "kernelspec": {
   "display_name": "Python 2",
   "language": "python",
   "name": "python2"
  },
  "language_info": {
   "codemirror_mode": {
    "name": "ipython",
    "version": 2
   },
   "file_extension": ".py",
   "mimetype": "text/x-python",
   "name": "python",
   "nbconvert_exporter": "python",
   "pygments_lexer": "ipython2",
   "version": "2.7.13"
  }
 },
 "nbformat": 4,
 "nbformat_minor": 2
}
